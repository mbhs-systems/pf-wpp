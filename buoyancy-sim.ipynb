{
 "cells": [
  {
   "cell_type": "code",
   "execution_count": 1,
   "metadata": {},
   "outputs": [],
   "source": [
    "import numpy as np\n",
    "import pandas as pd\n",
    "import matplotlib.pyplot as plt"
   ]
  },
  {
   "cell_type": "code",
   "execution_count": 9,
   "metadata": {},
   "outputs": [
    {
     "data": {
      "text/plain": [
       "(array([3.143e+03, 1.746e+03, 4.130e+02, 4.510e+02, 1.408e+03, 6.000e+00,\n",
       "        0.000e+00, 4.180e+02, 7.530e+02, 6.580e+02, 2.730e+02, 9.400e+01,\n",
       "        6.100e+01, 4.200e+01, 4.500e+01, 4.900e+01, 1.200e+01, 2.110e+02,\n",
       "        1.040e+02, 5.800e+01, 0.000e+00, 2.000e+00, 0.000e+00, 0.000e+00,\n",
       "        0.000e+00, 1.300e+01, 1.100e+01, 1.500e+01, 5.000e+00, 7.000e+00,\n",
       "        0.000e+00, 0.000e+00, 0.000e+00, 0.000e+00, 0.000e+00, 0.000e+00,\n",
       "        0.000e+00, 1.000e+00, 0.000e+00, 1.000e+00]),\n",
       " array([  41.88198641,  241.82538588,  441.76878536,  641.71218484,\n",
       "         841.65558432, 1041.59898379, 1241.54238327, 1441.48578275,\n",
       "        1641.42918223, 1841.37258171, 2041.31598118, 2241.25938066,\n",
       "        2441.20278014, 2641.14617962, 2841.08957909, 3041.03297857,\n",
       "        3240.97637805, 3440.91977753, 3640.86317701, 3840.80657648,\n",
       "        4040.74997596, 4240.69337544, 4440.63677492, 4640.58017439,\n",
       "        4840.52357387, 5040.46697335, 5240.41037283, 5440.3537723 ,\n",
       "        5640.29717178, 5840.24057126, 6040.18397074, 6240.12737022,\n",
       "        6440.07076969, 6640.01416917, 6839.95756865, 7039.90096813,\n",
       "        7239.8443676 , 7439.78776708, 7639.73116656, 7839.67456604,\n",
       "        8039.61796552]),\n",
       " <a list of 40 Patch objects>)"
      ]
     },
     "execution_count": 9,
     "metadata": {},
     "output_type": "execute_result"
    },
    {
     "data": {
      "image/png": "[encoded data removed]",
      "text/plain": [
       "<Figure size 432x288 with 1 Axes>"
      ]
     },
     "metadata": {},
     "output_type": "display_data"
    }
   ],
   "source": [
    "STATIC_DENSITY = 1.2250 # sea level temp\n",
    "STANDARD_TEMP = 300\n",
    "STANDARD_LR = 0\n",
    "GRAV_ACCEL = 9.8\n",
    "MOL_MASS = 0.0289644\n",
    "GASS_CONST = 8.3144598\n",
    "Z0 = 0\n",
    "\n",
    "def z2rho(z):\n",
    "    '''\n",
    "    Calculate air density at a given altitude assuming that the \n",
    "    barometric formula holds.\n",
    "    '''\n",
    "    if z < 1:\n",
    "        return 100000\n",
    "    return STATIC_DENSITY * np.exp(-GRAV_ACCEL * MOL_MASS * (z - Z0) / GASS_CONST / STANDARD_TEMP)\n",
    "\n",
    "def paccel(z):\n",
    "    '''\n",
    "    Calculate acceleration of a pollen particle given the pollen\n",
    "    density at that location, assuming the barometric formula holds\n",
    "    '''\n",
    "    return GRAV_ACCEL * (z2rho(z) / 1435 - 1)\n",
    "\n",
    "ps = np.tile(np.array([2., 0.]), (10000, 1))\n",
    "\n",
    "for i in range(5000):\n",
    "    for k in range(len(ps)):\n",
    "        ps[k][1] += paccel(ps[k][0]) + np.random.normal(0, 10) * 0.01\n",
    "        ps[k][0] += ps[k][1] * 0.01\n",
    "\n",
    "plt.hist(ps[:,0], bins=40)"
   ]
  },
  {
   "cell_type": "code",
   "execution_count": 7,
   "metadata": {},
   "outputs": [
    {
     "name": "stdout",
     "output_type": "stream",
     "text": [
      "[-7.71326521 65.44122755]\n"
     ]
    },
    {
     "data": {
      "text/plain": [
       "<matplotlib.lines.Line2D at 0x7f5d207c6ba8>"
      ]
     },
     "execution_count": 7,
     "metadata": {},
     "output_type": "execute_result"
    },
    {
     "data": {
      "image/png": "[encoded data removed]",
      "text/plain": [
       "<Figure size 432x288 with 1 Axes>"
      ]
     },
     "metadata": {},
     "output_type": "display_data"
    }
   ],
   "source": [
    "minval = 99999\n",
    "minidx = 0\n",
    "\n",
    "for k in range(len(ps)):\n",
    "    z = ps[k][0]\n",
    "    rep = np.abs(paccel(z) - (MOL_MASS * 10))\n",
    "    if rep < minval:\n",
    "        minval = rep\n",
    "        minidx = k\n",
    "        \n",
    "print(ps[k])\n",
    "\n",
    "plt.hist(ps[:,0], bins=100)\n",
    "plt.axvline(x=ps[k][0], color='r')"
   ]
  },
  {
   "cell_type": "code",
   "execution_count": 10,
   "metadata": {},
   "outputs": [
    {
     "data": {
      "text/plain": [
       "(array([1.278e+03, 9.600e+02, 3.200e+02, 1.120e+02, 1.800e+01, 5.240e+02,\n",
       "        3.880e+02, 0.000e+00, 0.000e+00, 1.500e+01, 2.040e+02, 2.890e+02,\n",
       "        3.720e+02, 1.350e+02, 3.800e+01, 4.500e+01, 7.000e+00, 3.200e+01,\n",
       "        1.800e+01, 3.000e+01, 7.000e+00, 1.100e+01, 9.000e+00, 7.100e+01,\n",
       "        2.500e+01, 5.900e+01, 1.200e+01, 0.000e+00, 0.000e+00, 0.000e+00,\n",
       "        0.000e+00, 0.000e+00, 0.000e+00, 0.000e+00, 6.000e+00, 6.000e+00,\n",
       "        1.000e+00, 1.000e+00, 1.000e+00, 6.000e+00]),\n",
       " array([  50.29231029,  197.52971921,  344.76712812,  492.00453703,\n",
       "         639.24194595,  786.47935486,  933.71676378, 1080.95417269,\n",
       "        1228.1915816 , 1375.42899052, 1522.66639943, 1669.90380835,\n",
       "        1817.14121726, 1964.37862617, 2111.61603509, 2258.853444  ,\n",
       "        2406.09085292, 2553.32826183, 2700.56567074, 2847.80307966,\n",
       "        2995.04048857, 3142.27789749, 3289.5153064 , 3436.75271531,\n",
       "        3583.99012423, 3731.22753314, 3878.46494206, 4025.70235097,\n",
       "        4172.93975988, 4320.1771688 , 4467.41457771, 4614.65198663,\n",
       "        4761.88939554, 4909.12680445, 5056.36421337, 5203.60162228,\n",
       "        5350.8390312 , 5498.07644011, 5645.31384902, 5792.55125794,\n",
       "        5939.78866685]),\n",
       " <a list of 40 Patch objects>)"
      ]
     },
     "execution_count": 10,
     "metadata": {},
     "output_type": "execute_result"
    },
    {
     "data": {
      "image/png": "[encoded data removed]",
      "text/plain": [
       "<Figure size 432x288 with 1 Axes>"
      ]
     },
     "metadata": {},
     "output_type": "display_data"
    }
   ],
   "source": [
    "STATIC_DENSITY = 1.2250 # sea level temp\n",
    "STANDARD_TEMP = 300\n",
    "STANDARD_LR = 0\n",
    "GRAV_ACCEL = 9.8\n",
    "MOL_MASS = 0.0289644\n",
    "GASS_CONST = 8.3144598\n",
    "Z0 = 0\n",
    "\n",
    "def z2rho(z):\n",
    "    '''\n",
    "    Calculate air density at a given altitude assuming that the \n",
    "    barometric formula holds.\n",
    "    '''\n",
    "    if z < 1:\n",
    "        return 100000\n",
    "    return STATIC_DENSITY * np.exp(-GRAV_ACCEL * MOL_MASS * (z - Z0) / GASS_CONST / STANDARD_TEMP)\n",
    "\n",
    "def paccel(z):\n",
    "    '''\n",
    "    Calculate acceleration of a pollen particle given the pollen\n",
    "    density at that location, assuming the barometric formula holds\n",
    "    '''\n",
    "    return GRAV_ACCEL * (z2rho(z) / 1435 - 1)\n",
    "\n",
    "ps = np.tile(np.array([2., 0.]), (5000, 1))\n",
    "\n",
    "for i in range(5000):\n",
    "    for k in range(len(ps)):\n",
    "        ps[k][1] += paccel(ps[k][0]) + np.random.normal(0, 10) * 0.01\n",
    "        ps[k][0] += ps[k][1] * 0.01\n",
    "\n",
    "plt.hist(ps[:,0], bins=40)"
   ]
  },
  {
   "cell_type": "code",
   "execution_count": null,
   "metadata": {},
   "outputs": [],
   "source": [
    "minval = 99999\n",
    "minidx = 0\n",
    "\n",
    "for k in range(len(ps)):\n",
    "    z = ps[k][0]\n",
    "    rep = np.abs(paccel(z) - (MOL_MASS * 10))\n",
    "    if rep < minval:\n",
    "        minval = rep\n",
    "        minidx = k\n",
    "        \n",
    "print(ps[k])\n",
    "\n",
    "plt.hist(ps[:,0], bins=100)\n",
    "plt.axvline(x=ps[k][0], color='r')"
   ]
  }
 ],
 "metadata": {
  "kernelspec": {
   "display_name": "Python 3",
   "language": "python",
   "name": "python3"
  },
  "language_info": {
   "codemirror_mode": {
    "name": "ipython",
    "version": 3
   },
   "file_extension": ".py",
   "mimetype": "text/x-python",
   "name": "python",
   "nbconvert_exporter": "python",
   "pygments_lexer": "ipython3",
   "version": "3.6.5"
  }
 },
 "nbformat": 4,
 "nbformat_minor": 2
}
